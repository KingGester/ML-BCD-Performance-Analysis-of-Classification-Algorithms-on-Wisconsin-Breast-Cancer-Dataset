{
 "cells": [
  {
   "cell_type": "markdown",
   "metadata": {},
   "source": [
    "# تحلیل تکمیلی مدل‌های یادگیری ماشین برای تشخیص سرطان سینه\n",
    "\n",
    "در این پروژه مدل‌های مختلف یادگیری ماشین را روی دیتاست سرطان سینه بررسی و مقایسه می‌کنیم. مراحل زیر را انجام خواهیم داد:\n",
    "1. اعتبارسنجی متقاطع (K-fold)\n",
    "2. نمودارهای مقایسه‌ای مدل‌ها\n",
    "3. تحلیل ماتریس اغتشاش\n",
    "4. بررسی اهمیت ویژگی‌ها\n",
    "5. مقایسه منحنی ROC\n"
   ]
  },
  {
   "cell_type": "code",
   "execution_count": 2,
   "metadata": {},
   "outputs": [],
   "source": [
    "# وارد کردن کتابخانه‌های مورد نیاز\n",
    "import numpy as np\n",
    "import matplotlib.pyplot as plt\n",
    "import seaborn as sns\n",
    "\n",
    "from sklearn.datasets import load_breast_cancer\n",
    "from sklearn.model_selection import train_test_split, cross_val_score, KFold\n",
    "from sklearn.preprocessing import MinMaxScaler\n",
    "from sklearn.metrics import accuracy_score, precision_score, recall_score, confusion_matrix, ConfusionMatrixDisplay, roc_curve, auc\n",
    "\n",
    "# مدل‌های یادگیری ماشین\n",
    "from sklearn.naive_bayes import GaussianNB\n",
    "from sklearn.neighbors import KNeighborsClassifier\n",
    "from sklearn.tree import DecisionTreeClassifier\n",
    "from sklearn.ensemble import RandomForestClassifier\n",
    "from sklearn.svm import SVC\n",
    "from sklearn.linear_model import LogisticRegression\n"
   ]
  },
  {
   "cell_type": "code",
   "execution_count": 3,
   "metadata": {},
   "outputs": [
    {
     "name": "stdout",
     "output_type": "stream",
     "text": [
      "شکل ویژگی‌ها: (569, 30)\n",
      "برچسب‌ها: [0 1]\n"
     ]
    }
   ],
   "source": [
    "# بارگذاری دیتاست سرطان سینه\n",
    "data = load_breast_cancer()\n",
    "\n",
    "# ویژگی‌ها و برچسب‌ها\n",
    "X = data.data\n",
    "y = data.target\n",
    "\n",
    "# نرمال‌سازی داده‌ها (مقیاس‌بندی بین 0 تا 1)\n",
    "scaler = MinMaxScaler()\n",
    "X_scaled = scaler.fit_transform(X)\n",
    "\n",
    "# تقسیم‌بندی داده‌ها به داده‌های آموزش و تست\n",
    "X_train, X_test, y_train, y_test = train_test_split(X_scaled, y, test_size=0.2, random_state=42)\n",
    "\n",
    "print(\"شکل ویژگی‌ها:\", X.shape)\n",
    "print(\"برچسب‌ها:\", np.unique(y))\n"
   ]
  },
  {
   "cell_type": "code",
   "execution_count": 5,
   "metadata": {},
   "outputs": [
    {
     "name": "stdout",
     "output_type": "stream",
     "text": [
      "Logistic Regression دقت: 0.9582 (+/- 0.0162)\n",
      "K-Nearest Neighbors دقت: 0.9582 (+/- 0.0213)\n",
      "Support Vector Machine دقت: 0.9824 (+/- 0.0088)\n",
      "Decision Tree دقت: 0.9099 (+/- 0.0213)\n",
      "Random Forest دقت: 0.9516 (+/- 0.0132)\n",
      "Naive Bayes دقت: 0.9341 (+/- 0.0209)\n",
      "Gradient Boosting دقت: 0.9538 (+/- 0.0128)\n"
     ]
    }
   ],
   "source": [
    "\n",
    "from sklearn.ensemble import GradientBoostingClassifier\n",
    "\n",
    "\n",
    "models = {\n",
    "    'Logistic Regression': LogisticRegression(max_iter=1000),\n",
    "    'K-Nearest Neighbors': KNeighborsClassifier(),\n",
    "    'Support Vector Machine': SVC(),\n",
    "    'Decision Tree': DecisionTreeClassifier(),\n",
    "    'Random Forest': RandomForestClassifier(),\n",
    "    'Naive Bayes': GaussianNB(),\n",
    "    'Gradient Boosting': GradientBoostingClassifier()\n",
    "}\n",
    "\n",
    "\n",
    "results = {}\n",
    "for name, model in models.items():\n",
    "    cv_scores = cross_val_score(model, X_train, y_train, cv=5)\n",
    "    results[name] = cv_scores\n",
    "    print(f\"{name} دقت: {cv_scores.mean():.4f} (+/- {cv_scores.std():.4f})\")\n"
   ]
  },
  {
   "cell_type": "code",
   "execution_count": 8,
   "metadata": {},
   "outputs": [],
   "source": [
    "\n",
    "best_model = RandomForestClassifier()\n",
    "best_model.fit(X_train, y_train)\n",
    "\n",
    "\n",
    "y_pred = best_model.predict(X_test)\n"
   ]
  },
  {
   "cell_type": "code",
   "execution_count": 10,
   "metadata": {},
   "outputs": [
    {
     "name": "stdout",
     "output_type": "stream",
     "text": [
      "دقت نهایی روی داده تست: 0.9561\n",
      "\n",
      "گزارش طبقه‌بندی:\n",
      "              precision    recall  f1-score   support\n",
      "\n",
      "           0       0.95      0.93      0.94        43\n",
      "           1       0.96      0.97      0.97        71\n",
      "\n",
      "    accuracy                           0.96       114\n",
      "   macro avg       0.96      0.95      0.95       114\n",
      "weighted avg       0.96      0.96      0.96       114\n",
      "\n",
      "\n",
      "ماتریس Confusion:\n",
      "[[40  3]\n",
      " [ 2 69]]\n"
     ]
    },
    {
     "data": {
      "image/png": "[encoded data removed]",
      "text/plain": [
       "<Figure size 600x400 with 2 Axes>"
      ]
     },
     "metadata": {},
     "output_type": "display_data"
    }
   ],
   "source": [
    "\n",
    "from sklearn.metrics import classification_report\n",
    "\n",
    "\n",
    "accuracy = accuracy_score(y_test, y_pred)\n",
    "print(f\"دقت نهایی روی داده تست: {accuracy:.4f}\")\n",
    "\n",
    "\n",
    "print(\"\\nگزارش طبقه‌بندی:\")\n",
    "print(classification_report(y_test, y_pred))\n",
    "\n",
    "    \n",
    "conf_matrix = confusion_matrix(y_test, y_pred)\n",
    "print(\"\\nماتریس Confusion:\")\n",
    "print(conf_matrix)\n",
    "\n",
    "plt.figure(figsize=(6, 4))\n",
    "sns.heatmap(conf_matrix, annot=True, fmt='d', cmap='Blues')\n",
    "plt.xlabel('پیش‌بینی شده')\n",
    "plt.ylabel('واقعی')\n",
    "plt.title('Confusion Matrix')\n",
    "plt.show()\n"
   ]
  }
 ],
 "metadata": {
  "kernelspec": {
   "display_name": "learning",
   "language": "python",
   "name": "python3"
  },
  "language_info": {
   "codemirror_mode": {
    "name": "ipython",
    "version": 3
   },
   "file_extension": ".py",
   "mimetype": "text/x-python",
   "name": "python",
   "nbconvert_exporter": "python",
   "pygments_lexer": "ipython3",
   "version": "3.13.2"
  }
 },
 "nbformat": 4,
 "nbformat_minor": 2
}
